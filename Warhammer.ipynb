{
 "cells": [
  {
   "cell_type": "code",
   "execution_count": 121,
   "metadata": {
    "scrolled": true
   },
   "outputs": [],
   "source": [
    "import numpy as np\n",
    "import matplotlib.pyplot as plt\n",
    "import seaborn as sns\n",
    "import math \n",
    "from functools import reduce\n",
    "\n",
    "\n",
    "def ecdf(data):\n",
    "    \n",
    "    n = len(data)\n",
    "    \n",
    "    x = np.sort(data)\n",
    "    y = np.arange(1,n+1)/n\n",
    "    \n",
    "    return x,y\n",
    "\n",
    "def combination(n, r):\n",
    "    \n",
    "    if n - r == 0:\n",
    "        return 1\n",
    "    elif r == 0:\n",
    "        return 1\n",
    "    \n",
    "    numerator = reduce(lambda x,y: x*y,range(n,1,-1))\n",
    "    denominator = reduce(lambda x,y: x*y, range(r,0,-1))\n",
    "    denominator *= reduce(lambda x,y:x*y, range(1, n-r+1)) \n",
    "    \n",
    "    return numerator//(denominator)\n",
    "\n",
    "def binomialDistribution(trials,outcomes,probability):\n",
    "        \n",
    "    combinations = combination(trials, outcomes)\n",
    "    success_p = np.power(probability, outcomes)\n",
    "    fail_p = np.power(1-probability, trials-outcomes)\n",
    "    \n",
    "    return combinations*success_p*fail_p\n",
    "\n",
    "def cbdp(trials,outcomes,probability):\n",
    "    \n",
    "    total_probability = 1- reduce(lambda x,y: x+binomialDistribution(trials,y,probability), range(0,outcomes))\n",
    "        \n",
    "    return total_probability\n",
    "\n",
    "def successChance(nAttacker, threshold,toHit_P, multiplier=1):\n",
    "    \n",
    "    hits = 0\n",
    "    probability = 0\n",
    "        \n",
    "    for i in range(nAttacker*multiplier,1,-1):\n",
    "            \n",
    "        probability = cbdp(nAttacker*multiplier,i,toHit_P)\n",
    "        if probability >= threshold:\n",
    "                \n",
    "            hits = i\n",
    "            break\n",
    "        \n",
    "    return (hits, min(probability,threshold))\n",
    "    \n",
    "\n",
    "def enemyUnitsEliminatedByAttackerUnitWithMelee(nAttacker, wsbs, strength,wounds,\n",
    "                                       toughness, armor, invulnerable=0, ap=0,\n",
    "                                       attacks=1, damage=1, modifiers = None,\n",
    "                                       fnp = False, spreadDamage = False, threshold=0.9,\n",
    "                                       toHitReRoll=False,toWoundReRoll=False):\n",
    "    \n",
    "    if modifiers  == None:\n",
    "        \n",
    "        toHit_P = 1-((wsbs-1)/6)\n",
    "        toWound_P = 0\n",
    "        if strength*2<=toughness:\n",
    "            toWound_P = 1/6\n",
    "        elif toughness*2<=strength:\n",
    "            toWound_P = 1-(1/6)\n",
    "        elif strength>toughness:\n",
    "            toWound_P = 1-(2/6)\n",
    "        elif toughness>strength:\n",
    "            toWound_P = 2/6\n",
    "        elif toughness==strength:\n",
    "            toWound_P = 1/2\n",
    "            \n",
    "        toResist_P = armor + ap \n",
    "        \n",
    "\n",
    "        if invulnerable < toResist_P and invulnerable >1:\n",
    "        \n",
    "            toDamage_P = 1 - ((invulnerable - 1)/6)\n",
    "        else:\n",
    "            \n",
    "            toResist_P = 0 if toResist_P >= 7 else 1-((toResist_P - 1)/6)\n",
    "\n",
    "        hits,pHit = successChance(nAttacker, threshold,toHit_P, multiplier=attacks)\n",
    "        if toHitReRoll == True:\n",
    "            \n",
    "        iWounds,pWound = successChance(hits,threshold,toWound_P)\n",
    "        rWounds,prWounds = successChance(iWounds,threshold,toResist_P)\n",
    "\n",
    "        \n",
    "        totalWounds = iWounds - rWounds\n",
    "        totalWounds = 0 if totalWounds < 0 else totalWounds\n",
    "        \n",
    "        kills = totalWounds\n",
    "        \n",
    "        if wounds>1 and wounds>damage:\n",
    "            \n",
    "            kills = [wound*wounds for wound in range(1,totalWounds+1)]\n",
    "        \n",
    "            for i in range(len(kills)):\n",
    "                \n",
    "                while kills[i] > 0:\n",
    "                    \n",
    "                    kills[i] -= damage\n",
    "               \n",
    "            kills = np.array(kills)\n",
    "            kills = len(kills[kills <= 0])\n",
    "            \n",
    "                \n",
    "        return (kills, pHit, pWound, prWounds,rWounds)        \n",
    "    \n",
    "\n",
    "def showResults(kills, pHit, pWound, prWounds, rWounds):\n",
    "    \n",
    "    print(str(kills)+\" enemy kills with a probability to hit of \"+str(pHit)+\n",
    "      \" a probability to wound of \"+str(pWound)+\n",
    "      \" and a probability of \"+str(prWounds)+\" to resist \"+str(rWounds)+\" wounds\")\n",
    "        "
   ]
  },
  {
   "cell_type": "code",
   "execution_count": 48,
   "metadata": {},
   "outputs": [
    {
     "name": "stdout",
     "output_type": "stream",
     "text": [
      "0.629\n",
      "1.86264514923e-09\n"
     ]
    },
    {
     "data": {
      "image/png": "[encoded data removed]",
      "text/plain": [
       "<matplotlib.figure.Figure at 0x7faaab21ee10>"
      ]
     },
     "metadata": {},
     "output_type": "display_data"
    },
    {
     "data": {
      "image/png": "[encoded data removed]",
      "text/plain": [
       "<matplotlib.figure.Figure at 0x7faa99950400>"
      ]
     },
     "metadata": {},
     "output_type": "display_data"
    }
   ],
   "source": [
    "np.random.seed(42)\n",
    "sns.set()\n",
    "n_bloodletter_successes = np.random.binomial(30, 1-(1/6), size=1000)\n",
    "\n",
    "successes = np.sum(n_bloodletter_successes>= 25)\n",
    "\n",
    "print(successes/1000)\n",
    "print(cbdp(30,30,0.5))\n",
    "\n",
    "bins = np.arange(0, max(n_bloodletter_successes)+1.5)-0.5\n",
    "\n",
    "plt.hist(n_bloodletter_successes,normed=True, bins = bins)\n",
    "_= plt.xlabel('Number of successes')\n",
    "_= plt.ylabel('Binomial distribution')\n",
    "\n",
    "plt.show()\n",
    "\n",
    "plt.clf()\n",
    "\n",
    "x,y = ecdf(n_bloodletter_successes)\n",
    "plt.plot(x,y, marker='.', linestyle='none')\n",
    "plt.show()"
   ]
  },
  {
   "cell_type": "code",
   "execution_count": 124,
   "metadata": {
    "scrolled": true
   },
   "outputs": [
    {
     "name": "stdout",
     "output_type": "stream",
     "text": [
      "25 enemy kills with a probability to hit of 0.9 a probability to wound of 0.9 and a probability of 0.9 to resist 2 wounds\n",
      "4 enemy kills with a probability to hit of 0.9 a probability to wound of 0.9 and a probability of 0.9 to resist 4 wounds\n"
     ]
    }
   ],
   "source": [
    "#Bloodletter attacking marine unit with unstopabble ferocity and murderous horde abilities\n",
    "kills, pHit, pWound, prWounds, rWounds = enemyUnitsEliminatedByAttackerUnitWithMelee(30, 2, 5,2,4, 3, ap=3,\n",
    "                                       attacks=2, damage=1, threshold=0.9)\n",
    "showResults(kills, pHit, pWound, prWounds, rWounds)\n",
    "\n",
    "kills, pHit, pWound, prWounds, rWounds = enemyUnitsEliminatedByAttackerUnitWithMelee(30, 2, 4,2,4, 3,damage=1,\n",
    "                                                                                     threshold=0.9)\n",
    "showResults(kills, pHit, pWound, prWounds, rWounds)\n"
   ]
  },
  {
   "cell_type": "code",
   "execution_count": 93,
   "metadata": {
    "scrolled": true
   },
   "outputs": [
    {
     "data": {
      "text/plain": [
       "1"
      ]
     },
     "execution_count": 93,
     "metadata": {},
     "output_type": "execute_result"
    }
   ],
   "source": [
    "cbdp(8,1,1-(5/6))"
   ]
  },
  {
   "cell_type": "code",
   "execution_count": null,
   "metadata": {
    "scrolled": false
   },
   "outputs": [],
   "source": []
  },
  {
   "cell_type": "code",
   "execution_count": null,
   "metadata": {
    "scrolled": true
   },
   "outputs": [],
   "source": []
  },
  {
   "cell_type": "code",
   "execution_count": null,
   "metadata": {},
   "outputs": [],
   "source": []
  },
  {
   "cell_type": "code",
   "execution_count": null,
   "metadata": {},
   "outputs": [],
   "source": []
  }
 ],
 "metadata": {
  "kernelspec": {
   "display_name": "Python 3",
   "language": "python",
   "name": "python3"
  },
  "language_info": {
   "codemirror_mode": {
    "name": "ipython",
    "version": 3
   },
   "file_extension": ".py",
   "mimetype": "text/x-python",
   "name": "python",
   "nbconvert_exporter": "python",
   "pygments_lexer": "ipython3",
   "version": "3.6.4"
  }
 },
 "nbformat": 4,
 "nbformat_minor": 2
}
